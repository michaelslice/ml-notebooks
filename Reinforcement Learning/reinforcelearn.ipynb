{
 "cells": [
  {
   "attachments": {},
   "cell_type": "markdown",
   "metadata": {},
   "source": [
    "## Reinforcement Learning"
   ]
  },
  {
   "attachments": {},
   "cell_type": "markdown",
   "metadata": {},
   "source": [
    "The next and final topic in this course covers Reinforcement Learning. This technique is different than many of the other machine learning techniques we have seen earlier and has many applications in training agents (AI) to interact with environments like games. Rather than feeding our machine learning model millions of examples, we let our model come up with its examples by exploring an environment. The concept is fairly simple. Humans learn by exploring and learning from mistakes and past experiences so let's have our computer do the same."
   ]
  },
  {
   "attachments": {},
   "cell_type": "markdown",
   "metadata": {},
   "source": [
    "## Terminology"
   ]
  },
  {
   "attachments": {},
   "cell_type": "markdown",
   "metadata": {},
   "source": [
    "-- Environment In reinforcing learning tasks we have a notion of the environment. This is what our agent will explore. An example of an environment in the case of training an AI to play say a game of Mario would be the level we are training the agent on.\n",
    "\n",
    "-- Agent An agent is an entity that is exploring the environment. Our agent will interact and take different actions within the environment. In our Mario example, the Mario character within the game would be our agent.\n",
    "\n",
    "-- State at all times our agent will be in what we call a state. The state simply tells us about the status of the agent The most common example of a state is the location of the agent within the environment. Moving locations would change the agent state. \n",
    "\n",
    "-- Action any interaction between the agent and environment would be considered an action. For example, moving to the left or jumping would be an action. An action may or may not change the current state of the agent. The act of doing nothing is an action as well.\n",
    "\n",
    "-- Reward every action that our agent takes will result in a reward of some magnitude (positive or negative). The goal of our agent will be to maximize its reward in an environment. Sometimes the reward will be clear, for example, if an agent performs an action that increases their score in the environment we could say they've received a positive reward. If the agent were to perform an action that results in them losing score or possibly dying in the environment then they would receive a negative reward.\n"
   ]
  },
  {
   "attachments": {},
   "cell_type": "markdown",
   "metadata": {},
   "source": [
    "## Q-Learning"
   ]
  },
  {
   "attachments": {},
   "cell_type": "markdown",
   "metadata": {},
   "source": [
    "Q-learning is a fairly simple yet quite powerful technique in machine learning that involves learning a matrix of action-reward values. This matrix is often referred to as a Q-Table or Q-Matrix. The matrix is in shape (number of possible states, number of possible actions) where each value at matrix[n,m] represents the agent's expected reward given they are in state n and take action m. The Q-learning algorithm defines the way we update the values in the matrix and decide what action to take at each state. The idea is that after successful training/learning of this Q-Table/matrix, we can determine the action an agent should take in any state by looking at that state's row in the matrix and taking the maximum value column as the action."
   ]
  },
  {
   "attachments": {},
   "cell_type": "markdown",
   "metadata": {},
   "source": [
    "## Q-Learning Example"
   ]
  },
  {
   "attachments": {},
   "cell_type": "markdown",
   "metadata": {},
   "source": [
    "For this example, we will use the Q-Learning algorithm to train an agent to navigate a popular environment from the OpenAI Gym. The Open AI Gym was developed so programmers could practice machine learning using unique environments."
   ]
  },
  {
   "cell_type": "code",
   "execution_count": 1,
   "metadata": {},
   "outputs": [],
   "source": [
    "import gym"
   ]
  },
  {
   "cell_type": "code",
   "execution_count": 2,
   "metadata": {},
   "outputs": [],
   "source": [
    "#loading a environment\n",
    "env = gym.make('FrozenLake-v1')"
   ]
  },
  {
   "cell_type": "code",
   "execution_count": 3,
   "metadata": {},
   "outputs": [
    {
     "name": "stdout",
     "output_type": "stream",
     "text": [
      "16\n",
      "4\n"
     ]
    }
   ],
   "source": [
    "print(env.observation_space.n) # get number of states\n",
    "print(env.action_space.n) # get number of actions "
   ]
  },
  {
   "cell_type": "code",
   "execution_count": 4,
   "metadata": {},
   "outputs": [
    {
     "data": {
      "text/plain": [
       "0"
      ]
     },
     "execution_count": 4,
     "metadata": {},
     "output_type": "execute_result"
    }
   ],
   "source": [
    "env.reset() # result environment to default state "
   ]
  },
  {
   "cell_type": "code",
   "execution_count": 5,
   "metadata": {},
   "outputs": [],
   "source": [
    "action = env.action_space.sample() # get random action"
   ]
  },
  {
   "cell_type": "code",
   "execution_count": 6,
   "metadata": {},
   "outputs": [],
   "source": [
    "observation, reward, done, info = env.step(action)"
   ]
  },
  {
   "cell_type": "code",
   "execution_count": 7,
   "metadata": {},
   "outputs": [],
   "source": [
    "env.render()"
   ]
  },
  {
   "attachments": {},
   "cell_type": "markdown",
   "metadata": {},
   "source": [
    "## Bulding The Q-Table"
   ]
  },
  {
   "cell_type": "code",
   "execution_count": 8,
   "metadata": {},
   "outputs": [],
   "source": [
    "import gym\n",
    "import numpy as np\n",
    "import time\n",
    "\n",
    "env = gym.make('FrozenLake-v1')\n",
    "STATES = env.observation_space.n\n",
    "ACTIONS = env.action_space.n"
   ]
  },
  {
   "cell_type": "code",
   "execution_count": 9,
   "metadata": {},
   "outputs": [
    {
     "data": {
      "text/plain": [
       "array([[0., 0., 0., 0.],\n",
       "       [0., 0., 0., 0.],\n",
       "       [0., 0., 0., 0.],\n",
       "       [0., 0., 0., 0.],\n",
       "       [0., 0., 0., 0.],\n",
       "       [0., 0., 0., 0.],\n",
       "       [0., 0., 0., 0.],\n",
       "       [0., 0., 0., 0.],\n",
       "       [0., 0., 0., 0.],\n",
       "       [0., 0., 0., 0.],\n",
       "       [0., 0., 0., 0.],\n",
       "       [0., 0., 0., 0.],\n",
       "       [0., 0., 0., 0.],\n",
       "       [0., 0., 0., 0.],\n",
       "       [0., 0., 0., 0.],\n",
       "       [0., 0., 0., 0.]])"
      ]
     },
     "execution_count": 9,
     "metadata": {},
     "output_type": "execute_result"
    }
   ],
   "source": [
    "Q = np.zeros((STATES, ACTIONS)) # create a matrix with all 0 values\n",
    "Q"
   ]
  },
  {
   "attachments": {},
   "cell_type": "markdown",
   "metadata": {},
   "source": [
    "## Constants"
   ]
  },
  {
   "cell_type": "code",
   "execution_count": 10,
   "metadata": {},
   "outputs": [],
   "source": [
    "EPISODES = 10000 # how many times to run the environment from the beginning\n",
    "MAX_STEPS = 100 # max number of steps allowed for each run of the environment\n",
    "\n",
    "LEARNING_RATE = 0.81 # learning rate \n",
    "GAMMA = 0.96"
   ]
  },
  {
   "attachments": {},
   "cell_type": "markdown",
   "metadata": {},
   "source": [
    "## Picking an Action"
   ]
  },
  {
   "attachments": {},
   "cell_type": "markdown",
   "metadata": {},
   "source": [
    "Remember that we can pick an action using one of the two methods:\n",
    "\n",
    "1. Randomly picking a valid action\n",
    "\n",
    "2. Using the current Q-Table to find the best action"
   ]
  },
  {
   "cell_type": "code",
   "execution_count": 11,
   "metadata": {},
   "outputs": [],
   "source": [
    "epslion = 0.9 # start with a 90% chance of picking a random action\n",
    "\n",
    "# code to pick action\n",
    "if np.random.uniform(0,1 ) < epslion: # we will check if a randomly selected value is less than epsilon\n",
    "    action = env.action_space.sample() # take a random action\n",
    "else:\n",
    "    action = np.argmax(Q[state, :]) # use the Q table to pick best action based on current values"
   ]
  },
  {
   "attachments": {},
   "cell_type": "markdown",
   "metadata": {},
   "source": [
    "## Updating Q Values"
   ]
  },
  {
   "cell_type": "code",
   "execution_count": 12,
   "metadata": {},
   "outputs": [],
   "source": [
    "import gym\n",
    "import numpy as np\n",
    "import time\n",
    "\n",
    "env = gym.make('FrozenLake-v1')\n",
    "STATES = env.observation_space.n\n",
    "ACTIONS = env.action_space.n\n",
    "\n",
    "Q = np.zeros((STATES, ACTIONS))\n",
    "\n",
    "EPISODES = 1500\n",
    "MAX_STEPS = 100\n",
    "\n",
    "LEARNING_RATE = 0.81\n",
    "GAMMA = 0.96\n",
    "\n",
    "RENDER = False\n",
    "\n",
    "epslion = 0.9"
   ]
  },
  {
   "cell_type": "code",
   "execution_count": 13,
   "metadata": {},
   "outputs": [
    {
     "name": "stdout",
     "output_type": "stream",
     "text": [
      "[[3.32182953e-01 1.84905528e-02 1.84604282e-02 1.81193100e-02]\n",
      " [2.90244809e-03 8.73070244e-03 9.92279049e-03 1.02762367e-01]\n",
      " [7.72823373e-03 1.31843403e-01 5.60710536e-03 7.50516462e-03]\n",
      " [3.21735971e-03 4.52077724e-03 3.75943682e-03 1.44972898e-01]\n",
      " [4.82509776e-01 1.08234067e-02 4.68813710e-03 6.94308249e-03]\n",
      " [0.00000000e+00 0.00000000e+00 0.00000000e+00 0.00000000e+00]\n",
      " [1.58857992e-04 1.39287821e-04 1.80173934e-01 1.93899442e-05]\n",
      " [0.00000000e+00 0.00000000e+00 0.00000000e+00 0.00000000e+00]\n",
      " [1.27643115e-02 4.55562074e-03 1.55925372e-02 6.57717717e-01]\n",
      " [8.77480893e-03 6.51549268e-01 1.11720687e-02 3.65755948e-03]\n",
      " [8.74809722e-01 2.56691498e-03 1.18523679e-03 9.37703660e-04]\n",
      " [0.00000000e+00 0.00000000e+00 0.00000000e+00 0.00000000e+00]\n",
      " [0.00000000e+00 0.00000000e+00 0.00000000e+00 0.00000000e+00]\n",
      " [3.86169455e-02 2.15379733e-02 7.68652875e-01 2.99643746e-02]\n",
      " [1.23385377e-01 9.87030772e-01 1.58706771e-01 1.56878642e-01]\n",
      " [0.00000000e+00 0.00000000e+00 0.00000000e+00 0.00000000e+00]]\n",
      "Average reward: 0.2853333333333333:\n"
     ]
    }
   ],
   "source": [
    "rewards = []\n",
    "for episode in range (EPISODES):\n",
    "    \n",
    "    state = env.reset()\n",
    "    for _ in range (MAX_STEPS):\n",
    "        \n",
    "        if RENDER:\n",
    "            env.render()\n",
    "        \n",
    "        if np.random.uniform(0, 1) < epslion:\n",
    "            action = env.action_space.sample()\n",
    "        else:\n",
    "            action = np.argmax(Q[state, :])\n",
    "            \n",
    "        next_state, reward, done, _ = env.step(action)\n",
    "        \n",
    "        Q[state, action] = Q[state, action] + LEARNING_RATE * (reward + GAMMA * np.max(Q[next_state, :]) - Q[state, action])\n",
    "        \n",
    "        state = next_state\n",
    "        \n",
    "        if done:\n",
    "            rewards.append(reward)\n",
    "            epslion -= 0.001\n",
    "            break # reached goal\n",
    "        \n",
    "print(Q)\n",
    "print(f\"Average reward: {sum(rewards)/len(rewards)}:\")"
   ]
  },
  {
   "cell_type": "code",
   "execution_count": 14,
   "metadata": {},
   "outputs": [
    {
     "data": {
      "image/png": "[encoded data removed]",
      "text/plain": [
       "<Figure size 640x480 with 1 Axes>"
      ]
     },
     "metadata": {},
     "output_type": "display_data"
    },
    {
     "ename": "",
     "evalue": "",
     "output_type": "error",
     "traceback": [
      "\u001b[1;31mThe Kernel crashed while executing code in the the current cell or a previous cell. Please review the code in the cell(s) to identify a possible cause of the failure. Click <a href='https://aka.ms/vscodeJupyterKernelCrash'>here</a> for more info. View Jupyter <a href='command:jupyter.viewOutput'>log</a> for further details."
     ]
    }
   ],
   "source": [
    "# we can plot the training progres and see how the agent improved \n",
    "import matplotlib.pyplot as plt\n",
    "\n",
    "def get_average(values):\n",
    "    return sum(values)/len(values)\n",
    "\n",
    "avg_rewards = []\n",
    "for i in range(0, len(rewards), 100):\n",
    "    avg_rewards.append(get_average(rewards[i:i+100]))\n",
    "    \n",
    "plt.plot(avg_rewards)\n",
    "plt.ylabel('average reward')\n",
    "plt.xlabel('episodes (100\\'s)')\n",
    "plt.show()"
   ]
  }
 ],
 "metadata": {
  "kernelspec": {
   "display_name": "Python 3",
   "language": "python",
   "name": "python3"
  },
  "language_info": {
   "codemirror_mode": {
    "name": "ipython",
    "version": 3
   },
   "file_extension": ".py",
   "mimetype": "text/x-python",
   "name": "python",
   "nbconvert_exporter": "python",
   "pygments_lexer": "ipython3",
   "version": "3.11.4"
  },
  "orig_nbformat": 4
 },
 "nbformat": 4,
 "nbformat_minor": 2
}
