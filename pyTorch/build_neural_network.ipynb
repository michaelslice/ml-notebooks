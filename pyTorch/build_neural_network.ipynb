{
 "cells": [
  {
   "cell_type": "markdown",
   "metadata": {},
   "source": [
    "# Build the Neural Network"
   ]
  },
  {
   "cell_type": "code",
   "execution_count": 1,
   "metadata": {},
   "outputs": [],
   "source": [
    "# https://pytorch.org/tutorials/beginner/basics/buildmodel_tutorial.html\n",
    "\n",
    "# Neural networks comprise of layers modules that perform operations on data\n",
    "\n",
    "# The `torch.nn` namespace provides all the building blocks you need to build\n",
    "# your own neural network\n",
    "import os\n",
    "import torch\n",
    "from torch import nn\n",
    "from torch.utils.data import DataLoader\n",
    "from torchvision import datasets, transforms"
   ]
  },
  {
   "cell_type": "markdown",
   "metadata": {},
   "source": [
    "# Get Device for Training"
   ]
  },
  {
   "cell_type": "code",
   "execution_count": 2,
   "metadata": {},
   "outputs": [
    {
     "name": "stdout",
     "output_type": "stream",
     "text": [
      "Using cuda device\n"
     ]
    }
   ],
   "source": [
    "# We would like to use a hardware accelerator\n",
    "\n",
    "device = (\n",
    "    \"cuda\"\n",
    "    if torch.cuda.is_available()\n",
    "    else \"mps\"\n",
    "    if torch.backends.mps.is_available()\n",
    "    else \"cpu\"\n",
    ")\n",
    "print(f\"Using {device} device\")"
   ]
  },
  {
   "cell_type": "markdown",
   "metadata": {},
   "source": [
    "# Define the Class"
   ]
  },
  {
   "cell_type": "code",
   "execution_count": 3,
   "metadata": {},
   "outputs": [
    {
     "name": "stdout",
     "output_type": "stream",
     "text": [
      "NeuralNetwork(\n",
      "  (flatten): Flatten(start_dim=1, end_dim=-1)\n",
      "  (linear_relu_stack): Sequential(\n",
      "    (0): Linear(in_features=784, out_features=512, bias=True)\n",
      "    (1): ReLU()\n",
      "    (2): Linear(in_features=512, out_features=512, bias=True)\n",
      "    (3): ReLU()\n",
      "    (4): Linear(in_features=512, out_features=10, bias=True)\n",
      "  )\n",
      ")\n",
      "Predicted class: tensor([8], device='cuda:0')\n"
     ]
    }
   ],
   "source": [
    "# We define our neural network by subclassing `nn.Module` and initialize the \n",
    "# neural network layers in __init__\n",
    "\n",
    "class NeuralNetwork(nn.Module):\n",
    "    def __init__(self):\n",
    "        super().__init__()\n",
    "        self.flatten = nn.Flatten()\n",
    "        self.linear_relu_stack = nn.Sequential(\n",
    "            nn.Linear(28*28, 512),\n",
    "            nn.ReLU(),\n",
    "            nn.Linear(512, 512),\n",
    "            nn.ReLU(),\n",
    "            nn.Linear(512, 10),\n",
    "        )\n",
    "\n",
    "    def forward(self, x):\n",
    "        x = self.flatten(x)\n",
    "        logits = self.linear_relu_stack(x)\n",
    "        return logits\n",
    "\n",
    "model = NeuralNetwork().to(device)\n",
    "print(model)\n",
    "\n",
    "# To use the model, we pass it the input data. This executes the model's `forward`\n",
    "# along with some background operations\n",
    "\n",
    "# Calling the model on the input directly returns a 2-dimensional tensor with dim=0 \n",
    "# corresponding to each output of 10 raw predicted values for each class, and dim=1\n",
    "# corresponding to the individual values of each output\n",
    "X = torch.rand(1, 28, 28, device=device)\n",
    "logits = model(X)\n",
    "pred_probab = nn.Softmax(dim=1)(logits)\n",
    "y_pred = pred_probab.argmax(1)\n",
    "print(f\"Predicted class: {y_pred}\")"
   ]
  },
  {
   "cell_type": "markdown",
   "metadata": {},
   "source": [
    "# Model Layers"
   ]
  },
  {
   "cell_type": "code",
   "execution_count": 4,
   "metadata": {},
   "outputs": [
    {
     "name": "stdout",
     "output_type": "stream",
     "text": [
      "torch.Size([3, 28, 28])\n",
      "torch.Size([3, 784])\n",
      "torch.Size([3, 20])\n",
      "Before ReLU: tensor([[ 0.3498, -0.2607, -0.2843, -0.3515,  0.0192, -0.0532, -0.0121, -0.2300,\n",
      "         -0.0814, -0.0536,  0.1770,  0.3675,  0.4005,  0.1704,  0.0759,  0.1342,\n",
      "         -0.1612, -1.0559,  0.0737,  0.5854],\n",
      "        [ 0.1778, -0.2914, -0.1407,  0.0952,  0.0269,  0.2928,  0.4551, -0.6179,\n",
      "         -0.0645, -0.0400,  0.0203,  0.0923,  0.5215,  0.2404,  0.1607,  0.1976,\n",
      "          0.1241, -0.5954, -0.0700,  0.4129],\n",
      "        [ 0.3001, -0.2829,  0.1042, -0.3024, -0.0787,  0.3321,  0.4076, -0.4719,\n",
      "         -0.2150, -0.2098, -0.1827,  0.0698,  0.6719,  0.3080,  0.2433, -0.0816,\n",
      "          0.2664, -0.6417, -0.0108,  0.8603]], grad_fn=<AddmmBackward0>)\n",
      "\n",
      "\n",
      "After ReLU: tensor([[0.3498, 0.0000, 0.0000, 0.0000, 0.0192, 0.0000, 0.0000, 0.0000, 0.0000,\n",
      "         0.0000, 0.1770, 0.3675, 0.4005, 0.1704, 0.0759, 0.1342, 0.0000, 0.0000,\n",
      "         0.0737, 0.5854],\n",
      "        [0.1778, 0.0000, 0.0000, 0.0952, 0.0269, 0.2928, 0.4551, 0.0000, 0.0000,\n",
      "         0.0000, 0.0203, 0.0923, 0.5215, 0.2404, 0.1607, 0.1976, 0.1241, 0.0000,\n",
      "         0.0000, 0.4129],\n",
      "        [0.3001, 0.0000, 0.1042, 0.0000, 0.0000, 0.3321, 0.4076, 0.0000, 0.0000,\n",
      "         0.0000, 0.0000, 0.0698, 0.6719, 0.3080, 0.2433, 0.0000, 0.2664, 0.0000,\n",
      "         0.0000, 0.8603]], grad_fn=<ReluBackward0>)\n"
     ]
    }
   ],
   "source": [
    "# Take a sample minibatch of 3 images of size 28x28 and see what happens to it as we pass it \n",
    "# through the network\n",
    "input_image = torch.rand(3,28,28)\n",
    "print(input_image.size())\n",
    "\n",
    "# nn.Flatten\n",
    "\n",
    "# We initialize the nn.Flatten layer to convert each 2D 28x28 image into a contiguous array \n",
    "# of 784 pixel values\n",
    "flatten = nn.Flatten()\n",
    "flat_image = flatten(input_image)\n",
    "print(flat_image.size())\n",
    "\n",
    "# nn.Linear\n",
    "\n",
    "# The linear layer is a module that applies a linear transformation on the input using \n",
    "# its stored weights and biases\n",
    "layer1 = nn.Linear(in_features=28*28, out_features=20)\n",
    "hidden1 = layer1(flat_image)\n",
    "print(hidden1.size())\n",
    "\n",
    "# nn.ReLU\n",
    "\n",
    "# Non-linear activations are what creates the complex mappings between the model's inputs and outputs\n",
    "# They are applied after linear transformations to introduce nonlinearity, helping neural networks\n",
    "# learn a wide variety of phenomena\n",
    "print(f\"Before ReLU: {hidden1}\\n\\n\")\n",
    "hidden1 = nn.ReLU()(hidden1)\n",
    "print(f\"After ReLU: {hidden1}\")\n",
    "\n",
    "# nn.Sequential\n",
    "\n",
    "# Is an ordered container of modules. The data is passed through all the modules in the same order\n",
    "# as defined. You can use sequential containers to put together a quick network like seq_modules\n",
    "seq_modules = nn.Sequential(\n",
    "    flatten,\n",
    "    layer1,\n",
    "    nn.ReLU(),\n",
    "    nn.Linear(20, 10)\n",
    ")\n",
    "input_image = torch.rand(3,28,28)\n",
    "logits = seq_modules(input_image)\n",
    "\n",
    "# nn.Softmax\n",
    "\n",
    "# The last linear layer of the neural network returns logits - raw values in [-infty, infty]\n",
    "# which are passed to the nn.Softmax module. The logits are scaled to values [0, 1] representing\n",
    "# the model's predicted probabilities for each class\n",
    "softmax = nn.Softmax(dim=1)\n",
    "pred_probab = softmax(logits)"
   ]
  },
  {
   "cell_type": "markdown",
   "metadata": {},
   "source": [
    "# Model Parameters"
   ]
  },
  {
   "cell_type": "code",
   "execution_count": 5,
   "metadata": {},
   "outputs": [
    {
     "name": "stdout",
     "output_type": "stream",
     "text": [
      "Model structure: NeuralNetwork(\n",
      "  (flatten): Flatten(start_dim=1, end_dim=-1)\n",
      "  (linear_relu_stack): Sequential(\n",
      "    (0): Linear(in_features=784, out_features=512, bias=True)\n",
      "    (1): ReLU()\n",
      "    (2): Linear(in_features=512, out_features=512, bias=True)\n",
      "    (3): ReLU()\n",
      "    (4): Linear(in_features=512, out_features=10, bias=True)\n",
      "  )\n",
      ")\n",
      "\n",
      "\n",
      "Layer: linear_relu_stack.0.weight | Size: torch.Size([512, 784]) | Values : tensor([[ 0.0215, -0.0290, -0.0138,  ...,  0.0068, -0.0135,  0.0211],\n",
      "        [ 0.0349, -0.0261,  0.0282,  ...,  0.0293, -0.0244, -0.0208]],\n",
      "       device='cuda:0', grad_fn=<SliceBackward0>) \n",
      "\n",
      "Layer: linear_relu_stack.0.bias | Size: torch.Size([512]) | Values : tensor([-0.0091,  0.0340], device='cuda:0', grad_fn=<SliceBackward0>) \n",
      "\n",
      "Layer: linear_relu_stack.2.weight | Size: torch.Size([512, 512]) | Values : tensor([[ 0.0019,  0.0254,  0.0069,  ..., -0.0358,  0.0236, -0.0100],\n",
      "        [-0.0383,  0.0002,  0.0161,  ...,  0.0394, -0.0165,  0.0050]],\n",
      "       device='cuda:0', grad_fn=<SliceBackward0>) \n",
      "\n",
      "Layer: linear_relu_stack.2.bias | Size: torch.Size([512]) | Values : tensor([0.0394, 0.0193], device='cuda:0', grad_fn=<SliceBackward0>) \n",
      "\n",
      "Layer: linear_relu_stack.4.weight | Size: torch.Size([10, 512]) | Values : tensor([[ 0.0182,  0.0028, -0.0036,  ...,  0.0310,  0.0272,  0.0398],\n",
      "        [ 0.0061,  0.0182,  0.0327,  ..., -0.0189, -0.0229, -0.0239]],\n",
      "       device='cuda:0', grad_fn=<SliceBackward0>) \n",
      "\n",
      "Layer: linear_relu_stack.4.bias | Size: torch.Size([10]) | Values : tensor([-0.0387, -0.0306], device='cuda:0', grad_fn=<SliceBackward0>) \n",
      "\n"
     ]
    }
   ],
   "source": [
    "# Many layers inside a neural network are parameterized, have associated weights and biases that \n",
    "# are optimized during training.\n",
    "# Subclassing nn.Module automatically tracks all fields defined inside your model object, and makes\n",
    "# all parameters accessible using your model's parameters() or named_parameters() methods\n",
    "\n",
    "print(f\"Model structure: {model}\\n\\n\")\n",
    "\n",
    "for name, param in model.named_parameters():\n",
    "    print(f\"Layer: {name} | Size: {param.size()} | Values : {param[:2]} \\n\")"
   ]
  }
 ],
 "metadata": {
  "kernelspec": {
   "display_name": "Python 3",
   "language": "python",
   "name": "python3"
  },
  "language_info": {
   "codemirror_mode": {
    "name": "ipython",
    "version": 3
   },
   "file_extension": ".py",
   "mimetype": "text/x-python",
   "name": "python",
   "nbconvert_exporter": "python",
   "pygments_lexer": "ipython3",
   "version": "3.12.1"
  }
 },
 "nbformat": 4,
 "nbformat_minor": 2
}
